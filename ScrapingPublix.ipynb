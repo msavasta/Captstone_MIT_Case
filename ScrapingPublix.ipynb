{
 "cells": [
  {
   "cell_type": "markdown",
   "id": "55d9d4d0-e73e-43c1-964c-3a324a2aa5dc",
   "metadata": {},
   "source": [
    "# Scraping for Publix"
   ]
  },
  {
   "cell_type": "markdown",
   "id": "146fbe0d-d7f3-42e2-9692-1465b6e5ae70",
   "metadata": {},
   "source": [
    "**** This file will need to be modified based on the website where you scrape from ****\n",
    "\n",
    "We are currently only focusing on publix within Polk county. The list of all Publix is from this link (http://www.city-data.com/locations/PublixSuperMarkets/Polk-County-FL.html). \n",
    "\n",
    "To process this information within anylogic "
   ]
  },
  {
   "cell_type": "markdown",
   "id": "a3f9ae05-da5d-4132-8c00-5f8c77c99b7f",
   "metadata": {},
   "source": [
    "### This script scrapes the city-data website and returns a CSV containing the address, city, state and zipcode."
   ]
  },
  {
   "cell_type": "code",
   "execution_count": 3,
   "id": "8fffdc43-df76-4789-b935-2216047a4391",
   "metadata": {},
   "outputs": [],
   "source": [
    "import csv\n",
    "import openpyxl\n",
    "import requests\n",
    "from bs4 import BeautifulSoup\n",
    "\n",
    "# Send a GET request to the URL\n",
    "url = 'http://www.city-data.com/locations/PublixSuperMarkets/Polk-County-FL.html'\n",
    "response = requests.get(url)\n",
    "\n",
    "# Create a BeautifulSoup object\n",
    "soup = BeautifulSoup(response.content, 'html.parser')\n",
    "\n",
    "# Find all the address elements on the page\n",
    "address_elems = soup.find_all('div', {'itemprop': 'address'})\n",
    "\n",
    "# Extract the address information from each element and store it in a list of dictionaries\n",
    "addresses = []\n",
    "for address_elem in address_elems:\n",
    "    street_address = address_elem.find('span', {'itemprop': 'streetAddress'}).text.strip()\n",
    "    city = address_elem.find('span', {'itemprop': 'addressLocality'}).text.strip()\n",
    "    state = address_elem.find('span', {'itemprop': 'addressRegion'}).text.strip()\n",
    "    zip_code = address_elem.find('span', {'itemprop': 'postalCode'}).text.strip()\n",
    "\n",
    "    address_dict = {\n",
    "        'Street Address': street_address,\n",
    "        'City': city,\n",
    "        'State': state,\n",
    "        'Zip Code': zip_code\n",
    "    }\n",
    "\n",
    "    addresses.append(address_dict)\n",
    "\n",
    "\n",
    "lats = [28.052180,27.902750,28.311190,28.178010,28.257800,28.105435,27.9585908,27.8927587,27.9367233]\n",
    "longs =[-81.775290,-81.841770,-81.669660,-81.638610,-81.591570,-81.6385006,-81.6207432,-81.5891238,-81.9883637]\n",
    "for i in range(len(addresses)):\n",
    "    \n",
    "    addresses[i]['Latitude'] = lats[i]\n",
    "    addresses[i]['Longitude'] = longs[i]\n",
    "    \n",
    "# Write the address information to a CSV file\n",
    "workbook = openpyxl.Workbook()\n",
    "worksheet = workbook.active\n",
    "\n",
    "fieldnames = ['Street Address', 'City', 'State', 'Zip Code', 'Latitude', 'Longitude']\n",
    "worksheet.append(fieldnames)\n",
    "\n",
    "for address in addresses:\n",
    "    worksheet.append([address[fieldname] for fieldname in fieldnames])\n",
    "\n",
    "workbook.save('publix_addresses.xlsx')\n"
   ]
  },
  {
   "cell_type": "markdown",
   "id": "ded9eee1-ed16-45ab-a1eb-1d268ec1631d",
   "metadata": {},
   "source": [
    "### Adding to Anylogic\n",
    "\n",
    "You will need to add this as a database. Format the lat and long as doubles, then in the publix agent select 'loaded from database' select the sheetname. Add parameters 'GIS Location Latitude' to column latitude and 'GIS Location Longitude' to longitude. \n",
    "\n",
    "#### This will need to be done with citrus packers and citrus producing counties in the future"
   ]
  },
  {
   "cell_type": "markdown",
   "id": "e1bf6451-d19d-4bbc-9d4a-51ecdefd9480",
   "metadata": {},
   "source": [
    "# Future Works : \n",
    "\n",
    "It will be useful to have all supermarket or whatever retailers you find necessary. This is up to future disucssion\n",
    "\n",
    "List of all publix stores: https://malls.fandom.com/wiki/Publix/Locations"
   ]
  },
  {
   "cell_type": "markdown",
   "id": "9ef33b6c-c0d7-4d31-a840-05b622df68be",
   "metadata": {},
   "source": [
    "### When a larger dataset of supermarkets is scrape we will need to pull longitutde and latitude using Google Geocoding API\n",
    "\n",
    "The API setup is listed here, you will need to generate an API key to put in 'api_key': https://developers.google.com/maps/documentation/geocoding/overview\n",
    "You will need to create a cloud project with billing information from this link: https://developers.google.com/maps/documentation/elevation/cloud-setup\n",
    "\n",
    "The function is listed below and will iterate through the dictionary and add the longitute and latitude "
   ]
  },
  {
   "cell_type": "code",
   "execution_count": null,
   "id": "32e1e2ec-2262-4a18-89c3-67758aca948f",
   "metadata": {},
   "outputs": [],
   "source": [
    "import requests\n",
    "\n",
    "def geocode_address(address):\n",
    "    api_key = 'YOUR_API_KEY' # replace with your actual API key\n",
    "    url = f'https://maps.googleapis.com/maps/api/geocode/json?address={address}&key={api_key}'\n",
    "    response = requests.get(url).json()\n",
    "    if response['status'] == 'OK':\n",
    "        lat = response['results'][0]['geometry']['location']['lat']\n",
    "        lng = response['results'][0]['geometry']['location']['lng']\n",
    "        return lat, lng\n",
    "    else:\n",
    "        return None\n",
    "\n",
    "\n",
    "for address_dict in addresses:\n",
    "full_address = f\"{address_dict['Street Address']}, {address_dict['City']}, {address_dict['State']} {address_dict['Zip Code']}\"\n",
    "coordinates = geocode_address(full_address)\n",
    "if coordinates:\n",
    "    address_dict['Latitude'] = coordinates[0]\n",
    "    address_dict['Longitude'] = coordinates[1]\n",
    "else:\n",
    "    address_dict['Latitude'] = None\n",
    "    address_dict['Longitude'] = None\n"
   ]
  },
  {
   "cell_type": "code",
   "execution_count": null,
   "id": "4486d900-766b-404e-80e5-f8e73b85c244",
   "metadata": {},
   "outputs": [],
   "source": []
  }
 ],
 "metadata": {
  "kernelspec": {
   "display_name": "Python 3",
   "language": "python",
   "name": "python3"
  },
  "language_info": {
   "codemirror_mode": {
    "name": "ipython",
    "version": 3
   },
   "file_extension": ".py",
   "mimetype": "text/x-python",
   "name": "python",
   "nbconvert_exporter": "python",
   "pygments_lexer": "ipython3",
   "version": "3.8.8"
  }
 },
 "nbformat": 4,
 "nbformat_minor": 5
}
